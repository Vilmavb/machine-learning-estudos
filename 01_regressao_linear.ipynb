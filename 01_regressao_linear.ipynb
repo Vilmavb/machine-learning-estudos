{
 "cells": [
  {
   "cell_type": "markdown",
   "id": "eb4e6d01",
   "metadata": {},
   "source": [
    "# Regressão Linear com scikit-learn\n",
    "\n",
    "Este notebook apresenta um exemplo simples de **Regressão Linear**, utilizando dados gerados artificialmente com `numpy` e `scikit-learn`. O objetivo é entender como ajustar um modelo linear e visualizar os resultados."
   ]
  },
  {
   "cell_type": "code",
   "execution_count": null,
   "id": "9acff61a",
   "metadata": {},
   "outputs": [],
   "source": [
    "import numpy as np\n",
    "import pandas as pd\n",
    "import matplotlib.pyplot as plt\n",
    "from sklearn.linear_model import LinearRegression\n",
    "from sklearn.model_selection import train_test_split\n",
    "from sklearn.metrics import mean_squared_error, r2_score"
   ]
  },
  {
   "cell_type": "code",
   "execution_count": null,
   "id": "bf4ddb32",
   "metadata": {},
   "outputs": [],
   "source": [
    "# Gerando dados sintéticos\n",
    "np.random.seed(42)\n",
    "X = 2 * np.random.rand(100, 1)\n",
    "y = 4 + 3 * X + np.random.randn(100, 1)\n",
    "\n",
    "# Visualizando os dados\n",
    "plt.scatter(X, y, color='blue')\n",
    "plt.title('Dados Sintéticos para Regressão Linear')\n",
    "plt.xlabel('X')\n",
    "plt.ylabel('y')\n",
    "plt.grid(True)\n",
    "plt.show()"
   ]
  },
  {
   "cell_type": "code",
   "execution_count": null,
   "id": "56b380d4",
   "metadata": {},
   "outputs": [],
   "source": [
    "# Dividindo os dados em treino e teste\n",
    "X_train, X_test, y_train, y_test = train_test_split(X, y, test_size=0.2, random_state=42)"
   ]
  },
  {
   "cell_type": "code",
   "execution_count": null,
   "id": "13e44c02",
   "metadata": {},
   "outputs": [],
   "source": [
    "# Criando e treinando o modelo de Regressão Linear\n",
    "model = LinearRegression()\n",
    "model.fit(X_train, y_train)"
   ]
  },
  {
   "cell_type": "code",
   "execution_count": null,
   "id": "8df96c6a",
   "metadata": {},
   "outputs": [],
   "source": [
    "# Realizando previsões\n",
    "y_pred = model.predict(X_test)"
   ]
  },
  {
   "cell_type": "code",
   "execution_count": null,
   "id": "ca6b3df6",
   "metadata": {},
   "outputs": [],
   "source": [
    "# Avaliando o modelo\n",
    "mse = mean_squared_error(y_test, y_pred)\n",
    "r2 = r2_score(y_test, y_pred)\n",
    "\n",
    "print(f\"Erro quadrático médio (MSE): {mse:.2f}\")\n",
    "print(f\"Coeficiente de determinação (R²): {r2:.2f}\")\n",
    "print(f\"Coeficiente (inclinação): {model.coef_[0][0]:.2f}\")\n",
    "print(f\"Intercepto: {model.intercept_[0]:.2f}\")"
   ]
  },
  {
   "cell_type": "code",
   "execution_count": null,
   "id": "8801350c",
   "metadata": {},
   "outputs": [],
   "source": [
    "# Visualização do modelo\n",
    "plt.figure(figsize=(8, 5))\n",
    "plt.scatter(X_test, y_test, color=\"blue\", label=\"Valores reais\")\n",
    "plt.plot(X_test, y_pred, color=\"red\", linewidth=2, label=\"Previsões\")\n",
    "plt.title(\"Regressão Linear Simples\")\n",
    "plt.xlabel(\"X\")\n",
    "plt.ylabel(\"y\")\n",
    "plt.legend()\n",
    "plt.grid(True)\n",
    "plt.tight_layout()\n",
    "plt.show()"
   ]
  }
 ],
 "metadata": {},
 "nbformat": 4,
 "nbformat_minor": 5
}
